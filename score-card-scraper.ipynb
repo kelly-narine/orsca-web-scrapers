{
 "cells": [
  {
   "attachments": {},
   "cell_type": "markdown",
   "metadata": {},
   "source": [
    "Imports added for web scraping"
   ]
  },
  {
   "cell_type": "code",
   "execution_count": null,
   "metadata": {},
   "outputs": [],
   "source": [
    "from bs4 import BeautifulSoup # this module helps in web scrapping.\n",
    "import requests  # this module helps us to download a web page\n",
    "import pandas as pd"
   ]
  },
  {
   "attachments": {},
   "cell_type": "markdown",
   "metadata": {},
   "source": [
    "Web page containing Scorecard links read"
   ]
  },
  {
   "cell_type": "code",
   "execution_count": null,
   "metadata": {},
   "outputs": [],
   "source": [
    "match_schedule_html = open('match_schedule_html.txt', 'r')\n",
    "soup = BeautifulSoup(match_schedule_html, 'lxml')\n",
    "match_schedule_html.close()"
   ]
  },
  {
   "attachments": {},
   "cell_type": "markdown",
   "metadata": {},
   "source": [
    "Scorecard links extracted"
   ]
  },
  {
   "cell_type": "code",
   "execution_count": null,
   "metadata": {},
   "outputs": [],
   "source": [
    "links = soup.select('a')\n",
    "scorecards = [scorecard['href'] for scorecard in links]\n",
    "scorecards_links = []\n",
    "for link in scorecards:\n",
    "  if ('Scorecard.aspx' in link):\n",
    "    scorecards_links.append(link)\n",
    "scorecards_links.pop(0)\n",
    "scorecards_links[80]"
   ]
  },
  {
   "attachments": {},
   "cell_type": "markdown",
   "metadata": {},
   "source": [
    "Home Team Score"
   ]
  },
  {
   "cell_type": "code",
   "execution_count": null,
   "metadata": {},
   "outputs": [],
   "source": [
    "url = 'https://orsca.ca/Pages/Scorecard.aspx?MatchID=1802'\n",
    "reqs = requests.get(url, verify=False) # setting verify to False by passes the SSL Certificate check\n",
    "scorecard_soup = BeautifulSoup(reqs.text, 'lxml')\n",
    "\n",
    "home_table = scorecard_soup.find('table', {'id':'Home'})\n",
    "home_df = pd.DataFrame(columns=['Home Inning', 'Runs', 'How Out', 'O', 'R', 'W', 'H'])\n",
    "home_table_row = ''\n",
    "\n",
    "for row in home_table.find_all('tr'):\n",
    "  home_table_row = row\n",
    "  home_scorecard_row_soup = BeautifulSoup(str(home_table_row), 'lxml')\n",
    "  home_scorecard_td = home_scorecard_row_soup.find('td')\n",
    "\n",
    "  # extract values to insert into new row of home team score dataframe\n",
    "  home_inning = home_scorecard_td.find_all('div')[1].text\n",
    "  home_runs = home_scorecard_td.find_all('div')[2].text\n",
    "  home_how_out = home_scorecard_td.find_all('div')[3].text\n",
    "  home_o = home_scorecard_td.find_all('div')[4].text\n",
    "  home_r = home_scorecard_td.find_all('div')[5].text\n",
    "  home_w = home_scorecard_td.find_all('div')[6].text\n",
    "  home_h = home_scorecard_td.find_all('div')[7].text\n",
    "\n",
    "  home_list_row = [home_inning, home_runs, home_how_out, home_o, home_r, home_w, home_h]\n",
    "  home_df.loc[len(home_df)] = home_list_row\n",
    "\n",
    "home_df.drop(0, axis=0, inplace=True)\n",
    "# home_df = home_df.style.hide_index()\n",
    "home_df"
   ]
  },
  {
   "attachments": {},
   "cell_type": "markdown",
   "metadata": {},
   "source": [
    "Away Team Score"
   ]
  },
  {
   "cell_type": "code",
   "execution_count": null,
   "metadata": {},
   "outputs": [],
   "source": [
    "visitor_table = scorecard_soup.find('table', {'id':'Visitor'})\n",
    "visitor_df = pd.DataFrame(columns=['Visitor Inning', 'Runs', 'How Out', 'O', 'R', 'W', 'H'])\n",
    "visitor_table_row = ''\n",
    "\n",
    "for row in visitor_table.find_all('tr'):\n",
    "  visitor_table_row = row\n",
    "  visitor_scorecard_row_soup = BeautifulSoup(str(visitor_table_row), 'lxml')\n",
    "  visitor_scorecard_td = visitor_scorecard_row_soup.find('td')\n",
    "\n",
    "  # extract values to insert into new row of visitor team score dataframe\n",
    "  visitor_inning = visitor_scorecard_td.find_all('div')[1].text\n",
    "  visitor_runs = visitor_scorecard_td.find_all('div')[2].text\n",
    "  visitor_how_out = visitor_scorecard_td.find_all('div')[3].text\n",
    "  visitor_o = visitor_scorecard_td.find_all('div')[4].text\n",
    "  visitor_r = visitor_scorecard_td.find_all('div')[5].text\n",
    "  visitor_w = visitor_scorecard_td.find_all('div')[6].text\n",
    "  visitor_h = visitor_scorecard_td.find_all('div')[7].text\n",
    "\n",
    "  visitor_list_row = [visitor_inning, visitor_runs, visitor_how_out, visitor_o, visitor_r, visitor_w, visitor_h]\n",
    "  visitor_df.loc[len(visitor_df)] = visitor_list_row\n",
    "\n",
    "visitor_df.drop(0, axis=0, inplace=True)\n",
    "# visitor_df = visitor_df.style.hide_index()\n",
    "visitor_df"
   ]
  },
  {
   "attachments": {},
   "cell_type": "markdown",
   "metadata": {},
   "source": [
    "Match Overview"
   ]
  },
  {
   "cell_type": "code",
   "execution_count": null,
   "metadata": {},
   "outputs": [],
   "source": [
    "overview_table = scorecard_soup.find('table', {'id':'hd1'})\n",
    "team1 = overview_table.find_all('div', {'class':'team'})[0].text\n",
    "team2 = overview_table.find_all('div', {'class':'team'})[1].text\n",
    "team1_points = overview_table.find_all('div', {'class':'team'})[2].text\n",
    "team2_points = overview_table.find_all('div', {'class':'team'})[3].text\n",
    "date = overview_table.find_all('div', {'class':'Comments'})[0].text\n",
    "venue = overview_table.find_all('div', {'class':'Comments'})[1].text\n",
    "comments = overview_table.find_all('div', {'class':'Comments'})[2].text\n",
    "\n",
    "overview_df = pd.DataFrame({'Teams':[team1, 'vs.', team2], \n",
    "                            'Points':[team1_points, '', team2_points], \n",
    "                            'Date':[date, '', ''], 'Venue':[venue, '', ''], \n",
    "                            'Comments':[comments, '', '']}).transpose()\n",
    "overview_df.columns = ['', '', '']\n",
    "overview_df\n"
   ]
  },
  {
   "attachments": {},
   "cell_type": "markdown",
   "metadata": {},
   "source": [
    "Add the Dataframes to the Excel Workbook"
   ]
  },
  {
   "cell_type": "code",
   "execution_count": null,
   "metadata": {},
   "outputs": [],
   "source": [
    "with pd.ExcelWriter(\"2022_t15_scorecards.xlsx\", mode=\"a\", engine=\"openpyxl\", if_sheet_exists=\"replace\") as writer:\n",
    "  overview_df.to_excel(writer, sheet_name=\"Aug_14_ParisSun_Pegasus\", startrow=0, startcol=0)\n",
    "  home_df.to_excel(writer, sheet_name=\"Aug_14_ParisSun_Pegasus\", startrow=7, startcol=0, index=False)\n",
    "  visitor_df.to_excel(writer, sheet_name=\"Aug_14_ParisSun_Pegasus\",startrow=23, startcol=0, index=False)"
   ]
  }
 ],
 "metadata": {
  "kernelspec": {
   "display_name": "base",
   "language": "python",
   "name": "python3"
  },
  "language_info": {
   "codemirror_mode": {
    "name": "ipython",
    "version": 3
   },
   "file_extension": ".py",
   "mimetype": "text/x-python",
   "name": "python",
   "nbconvert_exporter": "python",
   "pygments_lexer": "ipython3",
   "version": "3.8.8"
  },
  "orig_nbformat": 4,
  "vscode": {
   "interpreter": {
    "hash": "3cd8864bbfdabba084d1bddddb93280afc0031babc8c5ad03bf52bdc63669ff0"
   }
  }
 },
 "nbformat": 4,
 "nbformat_minor": 2
}

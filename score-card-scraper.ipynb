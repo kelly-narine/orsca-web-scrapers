{
 "cells": [
  {
   "attachments": {},
   "cell_type": "markdown",
   "metadata": {},
   "source": [
    "Imports added for web scraping"
   ]
  },
  {
   "cell_type": "code",
   "execution_count": 1,
   "metadata": {},
   "outputs": [],
   "source": [
    "from bs4 import BeautifulSoup # this module helps in web scrapping.\n",
    "import requests  # this module helps us to download a web page\n",
    "import pandas as pd"
   ]
  },
  {
   "attachments": {},
   "cell_type": "markdown",
   "metadata": {},
   "source": [
    "Web page containing Scorecard links read"
   ]
  },
  {
   "cell_type": "code",
   "execution_count": 2,
   "metadata": {},
   "outputs": [],
   "source": [
    "match_schedule_html = open('match_schedule_html.txt', 'r')\n",
    "soup = BeautifulSoup(match_schedule_html, 'lxml')\n",
    "match_schedule_html.close()"
   ]
  },
  {
   "attachments": {},
   "cell_type": "markdown",
   "metadata": {},
   "source": [
    "Scorecard links extracted"
   ]
  },
  {
   "cell_type": "code",
   "execution_count": 21,
   "metadata": {},
   "outputs": [
    {
     "data": {
      "text/plain": [
       "['Scorecard.aspx?MatchID=1830',\n",
       " 'Scorecard.aspx?MatchID=1828',\n",
       " 'Scorecard.aspx?MatchID=1770',\n",
       " 'Scorecard.aspx?MatchID=1829',\n",
       " 'Scorecard.aspx?MatchID=1769',\n",
       " 'Scorecard.aspx?MatchID=1771',\n",
       " 'Scorecard.aspx?MatchID=1826',\n",
       " 'Scorecard.aspx?MatchID=1827',\n",
       " 'Scorecard.aspx?MatchID=1772',\n",
       " 'Scorecard.aspx?MatchID=1834',\n",
       " 'Scorecard.aspx?MatchID=1831',\n",
       " 'Scorecard.aspx?MatchID=1835',\n",
       " 'Scorecard.aspx?MatchID=1773',\n",
       " 'Scorecard.aspx?MatchID=1776',\n",
       " 'Scorecard.aspx?MatchID=1775',\n",
       " 'Scorecard.aspx?MatchID=1832',\n",
       " 'Scorecard.aspx?MatchID=1774',\n",
       " 'Scorecard.aspx?MatchID=1833',\n",
       " 'Scorecard.aspx?MatchID=1839',\n",
       " 'Scorecard.aspx?MatchID=1777',\n",
       " 'Scorecard.aspx?MatchID=1780',\n",
       " 'Scorecard.aspx?MatchID=1840',\n",
       " 'Scorecard.aspx?MatchID=1778',\n",
       " 'Scorecard.aspx?MatchID=1838',\n",
       " 'Scorecard.aspx?MatchID=1779',\n",
       " 'Scorecard.aspx?MatchID=1836',\n",
       " 'Scorecard.aspx?MatchID=1842',\n",
       " 'Scorecard.aspx?MatchID=1841',\n",
       " 'Scorecard.aspx?MatchID=1845',\n",
       " 'Scorecard.aspx?MatchID=1783',\n",
       " 'Scorecard.aspx?MatchID=1843',\n",
       " 'Scorecard.aspx?MatchID=1781',\n",
       " 'Scorecard.aspx?MatchID=1785',\n",
       " 'Scorecard.aspx?MatchID=1844',\n",
       " 'Scorecard.aspx?MatchID=1782',\n",
       " 'Scorecard.aspx?MatchID=1849',\n",
       " 'Scorecard.aspx?MatchID=1788',\n",
       " 'Scorecard.aspx?MatchID=1786',\n",
       " 'Scorecard.aspx?MatchID=1847',\n",
       " 'Scorecard.aspx?MatchID=1787',\n",
       " 'Scorecard.aspx?MatchID=1789',\n",
       " 'Scorecard.aspx?MatchID=1875',\n",
       " 'Scorecard.aspx?MatchID=1848',\n",
       " 'Scorecard.aspx?MatchID=1846',\n",
       " 'Scorecard.aspx?MatchID=1850',\n",
       " 'Scorecard.aspx?MatchID=1852',\n",
       " 'Scorecard.aspx?MatchID=1853',\n",
       " 'Scorecard.aspx?MatchID=1793',\n",
       " 'Scorecard.aspx?MatchID=1791',\n",
       " 'Scorecard.aspx?MatchID=1790',\n",
       " 'Scorecard.aspx?MatchID=1792',\n",
       " 'Scorecard.aspx?MatchID=1854',\n",
       " 'Scorecard.aspx?MatchID=1851',\n",
       " 'Scorecard.aspx?MatchID=1855',\n",
       " 'Scorecard.aspx?MatchID=1856',\n",
       " 'Scorecard.aspx?MatchID=1858',\n",
       " 'Scorecard.aspx?MatchID=1795',\n",
       " 'Scorecard.aspx?MatchID=1860',\n",
       " 'Scorecard.aspx?MatchID=1794',\n",
       " 'Scorecard.aspx?MatchID=1796',\n",
       " 'Scorecard.aspx?MatchID=1797',\n",
       " 'Scorecard.aspx?MatchID=1859',\n",
       " 'Scorecard.aspx?MatchID=1857',\n",
       " 'Scorecard.aspx?MatchID=1865',\n",
       " 'Scorecard.aspx?MatchID=1861',\n",
       " 'Scorecard.aspx?MatchID=1801',\n",
       " 'Scorecard.aspx?MatchID=1800',\n",
       " 'Scorecard.aspx?MatchID=1799',\n",
       " 'Scorecard.aspx?MatchID=1798',\n",
       " 'Scorecard.aspx?MatchID=1863',\n",
       " 'Scorecard.aspx?MatchID=1862',\n",
       " 'Scorecard.aspx?MatchID=1864',\n",
       " 'Scorecard.aspx?MatchID=1870',\n",
       " 'Scorecard.aspx?MatchID=1867',\n",
       " 'Scorecard.aspx?MatchID=1804',\n",
       " 'Scorecard.aspx?MatchID=1803',\n",
       " 'Scorecard.aspx?MatchID=1805',\n",
       " 'Scorecard.aspx?MatchID=1866',\n",
       " 'Scorecard.aspx?MatchID=1868',\n",
       " 'Scorecard.aspx?MatchID=1869',\n",
       " 'Scorecard.aspx?MatchID=1802']"
      ]
     },
     "execution_count": 21,
     "metadata": {},
     "output_type": "execute_result"
    }
   ],
   "source": [
    "links = soup.select('a')\n",
    "scorecards = [scorecard['href'] for scorecard in links]\n",
    "scorecards_links = []\n",
    "for link in scorecards:\n",
    "  if ('Scorecard.aspx' in link):\n",
    "    scorecards_links.append(link)\n",
    "scorecards_links.pop(0)\n",
    "scorecards_links"
   ]
  }
 ],
 "metadata": {
  "kernelspec": {
   "display_name": "base",
   "language": "python",
   "name": "python3"
  },
  "language_info": {
   "codemirror_mode": {
    "name": "ipython",
    "version": 3
   },
   "file_extension": ".py",
   "mimetype": "text/x-python",
   "name": "python",
   "nbconvert_exporter": "python",
   "pygments_lexer": "ipython3",
   "version": "3.8.8"
  },
  "orig_nbformat": 4,
  "vscode": {
   "interpreter": {
    "hash": "3cd8864bbfdabba084d1bddddb93280afc0031babc8c5ad03bf52bdc63669ff0"
   }
  }
 },
 "nbformat": 4,
 "nbformat_minor": 2
}
